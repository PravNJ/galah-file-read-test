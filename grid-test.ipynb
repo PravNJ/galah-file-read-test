{
 "cells": [
  {
   "cell_type": "code",
   "execution_count": 14,
   "source": [
    "using JLD2, FileIO, SharedArrays\r\n",
    "\r\n",
    "Δλ = 7 \r\n",
    "subordinate_line_vac = 6105.7;\r\n",
    "li_vac = 6709.702;"
   ],
   "outputs": [],
   "metadata": {}
  },
  {
   "cell_type": "code",
   "execution_count": 15,
   "source": [
    "using HDF5\r\n",
    "#wls = Float32.(load(\"wl_grid.jld2\")[\"wl_grid\"])\r\n",
    "wl_h5 = h5open(\"wl_grid.h5\", \"r\")[\"wl_grid\"]"
   ],
   "outputs": [
    {
     "output_type": "execute_result",
     "data": {
      "text/plain": [
       "🔢 HDF5.Dataset: /wl_grid (file: wl_grid.h5 xfer_mode: 0)"
      ]
     },
     "metadata": {},
     "execution_count": 15
    }
   ],
   "metadata": {}
  },
  {
   "cell_type": "code",
   "execution_count": 18,
   "source": [
    "wls = read(wl_h5); #wavelengths"
   ],
   "outputs": [],
   "metadata": {}
  },
  {
   "cell_type": "code",
   "execution_count": 19,
   "source": [
    "\r\n",
    "subordinate_line_mask = subordinate_line_vac - Δλ .< wls .< subordinate_line_vac + Δλ\r\n",
    "npix = sum(.! subordinate_line_mask) #n pixels that are not masked \r\n",
    "wl_grid = SharedArray{Float32}(npix) \r\n",
    "wl_grid .= wls[.! subordinate_line_mask]\r\n",
    "line_mask = li_vac - Δλ .< wl_grid .< li_vac + Δλ"
   ],
   "outputs": [
    {
     "output_type": "execute_result",
     "data": {
      "text/plain": [
       "4459-element BitVector:\n",
       " 0\n",
       " 0\n",
       " 0\n",
       " 0\n",
       " 0\n",
       " 0\n",
       " 0\n",
       " 0\n",
       " 0\n",
       " 0\n",
       " 0\n",
       " 0\n",
       " 0\n",
       " ⋮\n",
       " 0\n",
       " 0\n",
       " 0\n",
       " 0\n",
       " 0\n",
       " 0\n",
       " 0\n",
       " 0\n",
       " 0\n",
       " 0\n",
       " 0\n",
       " 0"
      ]
     },
     "metadata": {},
     "execution_count": 19
    }
   ],
   "metadata": {}
  }
 ],
 "metadata": {
  "orig_nbformat": 4,
  "language_info": {
   "file_extension": ".jl",
   "name": "julia",
   "mimetype": "application/julia",
   "version": "1.6.2"
  },
  "kernelspec": {
   "name": "julia-1.6",
   "display_name": "Julia 1.6.2",
   "language": "julia"
  }
 },
 "nbformat": 4,
 "nbformat_minor": 2
}