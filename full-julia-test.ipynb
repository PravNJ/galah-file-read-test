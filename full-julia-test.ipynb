{
 "cells": [
  {
   "cell_type": "code",
   "execution_count": 1,
   "source": [
    "using PyCall"
   ],
   "outputs": [],
   "metadata": {}
  },
  {
   "cell_type": "code",
   "execution_count": 2,
   "source": [
    "py\"\"\"\r\n",
    "import numpy    #this is a test case\r\n",
    "xs = numpy.ones((2))\r\n",
    "\"\"\""
   ],
   "outputs": [],
   "metadata": {}
  },
  {
   "cell_type": "code",
   "execution_count": 3,
   "source": [
    "xs = PyArray(py\"xs\"o) #testing reading from numpy array "
   ],
   "outputs": [
    {
     "output_type": "execute_result",
     "data": {
      "text/plain": [
       "2-element PyArray{Float64, 1}:\n",
       " 1.0\n",
       " 1.0"
      ]
     },
     "metadata": {},
     "execution_count": 3
    }
   ],
   "metadata": {}
  },
  {
   "cell_type": "code",
   "execution_count": 4,
   "source": [
    "typeof(xs)"
   ],
   "outputs": [
    {
     "output_type": "execute_result",
     "data": {
      "text/plain": [
       "PyArray{Float64, 1}"
      ]
     },
     "metadata": {},
     "execution_count": 4
    }
   ],
   "metadata": {}
  },
  {
   "cell_type": "code",
   "execution_count": 5,
   "source": [
    "using JLD2\r\n",
    "some_data = xs\r\n",
    "@save \"xs.jld2\" data"
   ],
   "outputs": [],
   "metadata": {}
  },
  {
   "cell_type": "code",
   "execution_count": 6,
   "source": [
    "xs = nothing "
   ],
   "outputs": [],
   "metadata": {}
  },
  {
   "cell_type": "code",
   "execution_count": 6,
   "source": [
    "@load \"xs.jld2\""
   ],
   "outputs": [
    {
     "output_type": "execute_result",
     "data": {
      "text/plain": [
       "1-element Vector{Symbol}:\n",
       " :data"
      ]
     },
     "metadata": {},
     "execution_count": 6
    }
   ],
   "metadata": {}
  },
  {
   "cell_type": "code",
   "execution_count": null,
   "source": [
    "typeof(data)"
   ],
   "outputs": [
    {
     "output_type": "error",
     "ename": "Error",
     "evalue": "Session cannot generate requests",
     "traceback": [
      "Error: Session cannot generate requests",
      "at w.executeCodeCell (c:\\Users\\pravn\\.vscode\\extensions\\ms-toolsai.jupyter-2021.8.1054968649\\out\\client\\extension.js:90:320068)",
      "at w.execute (c:\\Users\\pravn\\.vscode\\extensions\\ms-toolsai.jupyter-2021.8.1054968649\\out\\client\\extension.js:90:319389)",
      "at w.start (c:\\Users\\pravn\\.vscode\\extensions\\ms-toolsai.jupyter-2021.8.1054968649\\out\\client\\extension.js:90:315205)",
      "at runMicrotasks (<anonymous>)",
      "at processTicksAndRejections (internal/process/task_queues.js:93:5)",
      "at async t.CellExecutionQueue.executeQueuedCells (c:\\Users\\pravn\\.vscode\\extensions\\ms-toolsai.jupyter-2021.8.1054968649\\out\\client\\extension.js:90:329732)",
      "at async t.CellExecutionQueue.start (c:\\Users\\pravn\\.vscode\\extensions\\ms-toolsai.jupyter-2021.8.1054968649\\out\\client\\extension.js:90:329272)"
     ]
    }
   ],
   "metadata": {}
  },
  {
   "cell_type": "code",
   "execution_count": 9,
   "source": [
    "julia_mat = Matrix(xs)"
   ],
   "outputs": [
    {
     "output_type": "error",
     "ename": "LoadError",
     "evalue": "MethodError: no method matching (Matrix{T} where T)(::PyArray{Float64, 1})\n\u001b[0mClosest candidates are:\n\u001b[0m  (Array{T, N} where T)(::AbstractArray{S, N}) where {S, N} at boot.jl:470\n\u001b[0m  (Matrix{T} where T)(\u001b[91m::Union{LinearAlgebra.QR, LinearAlgebra.QRCompactWY}\u001b[39m) at C:\\buildbot\\worker\\package_win64\\build\\usr\\share\\julia\\stdlib\\v1.6\\LinearAlgebra\\src\\qr.jl:434\n\u001b[0m  (Matrix{T} where T)(\u001b[91m::LinearAlgebra.LQ\u001b[39m) at C:\\buildbot\\worker\\package_win64\\build\\usr\\share\\julia\\stdlib\\v1.6\\LinearAlgebra\\src\\lq.jl:120\n\u001b[0m  ...",
     "traceback": [
      "MethodError: no method matching (Matrix{T} where T)(::PyArray{Float64, 1})\n\u001b[0mClosest candidates are:\n\u001b[0m  (Array{T, N} where T)(::AbstractArray{S, N}) where {S, N} at boot.jl:470\n\u001b[0m  (Matrix{T} where T)(\u001b[91m::Union{LinearAlgebra.QR, LinearAlgebra.QRCompactWY}\u001b[39m) at C:\\buildbot\\worker\\package_win64\\build\\usr\\share\\julia\\stdlib\\v1.6\\LinearAlgebra\\src\\qr.jl:434\n\u001b[0m  (Matrix{T} where T)(\u001b[91m::LinearAlgebra.LQ\u001b[39m) at C:\\buildbot\\worker\\package_win64\\build\\usr\\share\\julia\\stdlib\\v1.6\\LinearAlgebra\\src\\lq.jl:120\n\u001b[0m  ...",
      "",
      "Stacktrace:",
      " [1] top-level scope",
      "   @ In[9]:1",
      " [2] eval",
      "   @ .\\boot.jl:360 [inlined]",
      " [3] include_string(mapexpr::typeof(REPL.softscope), mod::Module, code::String, filename::String)",
      "   @ Base .\\loading.jl:1116"
     ]
    }
   ],
   "metadata": {}
  }
 ],
 "metadata": {
  "orig_nbformat": 4,
  "language_info": {
   "file_extension": ".jl",
   "name": "julia",
   "mimetype": "application/julia",
   "version": "1.6.2"
  },
  "kernelspec": {
   "name": "julia-1.6",
   "display_name": "Julia 1.6.2",
   "language": "julia"
  },
  "interpreter": {
   "hash": "854dde0f5349f591ba4eb6f4f43f02c32334f9d9446baa489f1dae9da5cb0d51"
  }
 },
 "nbformat": 4,
 "nbformat_minor": 2
}