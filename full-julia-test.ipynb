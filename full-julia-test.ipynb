{
 "cells": [
  {
   "cell_type": "code",
   "execution_count": 1,
   "source": [
    "using PyCall"
   ],
   "outputs": [],
   "metadata": {}
  },
  {
   "cell_type": "code",
   "execution_count": 2,
   "source": [
    "py\"\"\"\r\n",
    "import numpy    #this is a test case\r\n",
    "xs = numpy.ones((2))\r\n",
    "\"\"\""
   ],
   "outputs": [],
   "metadata": {}
  },
  {
   "cell_type": "code",
   "execution_count": 3,
   "source": [
    "yo = PyArray(py\"xs\"o) #testing reading from numpy array "
   ],
   "outputs": [
    {
     "output_type": "execute_result",
     "data": {
      "text/plain": [
       "2-element PyArray{Float64, 1}:\n",
       " 1.0\n",
       " 1.0"
      ]
     },
     "metadata": {},
     "execution_count": 3
    }
   ],
   "metadata": {}
  },
  {
   "cell_type": "code",
   "execution_count": 5,
   "source": [
    "col = Vector{Float64}(yo)"
   ],
   "outputs": [
    {
     "output_type": "execute_result",
     "data": {
      "text/plain": [
       "2-element Vector{Float64}:\n",
       " 1.0\n",
       " 1.0"
      ]
     },
     "metadata": {},
     "execution_count": 5
    }
   ],
   "metadata": {}
  },
  {
   "cell_type": "code",
   "execution_count": 6,
   "source": [
    "col"
   ],
   "outputs": [
    {
     "output_type": "execute_result",
     "data": {
      "text/plain": [
       "2-element Vector{Float64}:\n",
       " 1.0\n",
       " 1.0"
      ]
     },
     "metadata": {},
     "execution_count": 6
    }
   ],
   "metadata": {}
  },
  {
   "cell_type": "code",
   "execution_count": 7,
   "source": [
    "using JLD2\r\n",
    "some_data = col\r\n",
    "@save \"xs.jld2\" some_data"
   ],
   "outputs": [],
   "metadata": {}
  },
  {
   "cell_type": "code",
   "execution_count": 1,
   "source": [
    "@load \"wl_grid\""
   ],
   "outputs": [
    {
     "output_type": "error",
     "ename": "LoadError",
     "evalue": "LoadError: UndefVarError: @load not defined\nin expression starting at In[1]:1",
     "traceback": [
      "LoadError: UndefVarError: @load not defined\nin expression starting at In[1]:1",
      "",
      "Stacktrace:",
      " [1] top-level scope",
      "   @ :0",
      " [2] eval",
      "   @ .\\boot.jl:360 [inlined]",
      " [3] include_string(mapexpr::typeof(REPL.softscope), mod::Module, code::String, filename::String)",
      "   @ Base .\\loading.jl:1116"
     ]
    }
   ],
   "metadata": {}
  },
  {
   "cell_type": "code",
   "execution_count": 15,
   "source": [
    "using HDF5"
   ],
   "outputs": [],
   "metadata": {}
  },
  {
   "cell_type": "code",
   "execution_count": 19,
   "source": [
    "data = h5read(\"C:/Users/pravn/Dropbox/masters/python-code/galah-file-read-test/data.h5\",\"wl_grid\")"
   ],
   "outputs": [
    {
     "output_type": "execute_result",
     "data": {
      "text/plain": [
       "4096-element Vector{Float64}:\n",
       " 4713.805085503763\n",
       " 4713.851112715211\n",
       " 4713.897139926658\n",
       " 4713.943167138106\n",
       " 4713.989194349554\n",
       " 4714.035221561002\n",
       " 4714.08124877245\n",
       " 4714.127275983898\n",
       " 4714.173303195345\n",
       " 4714.219330406793\n",
       " 4714.265357618241\n",
       " 4714.311384829689\n",
       " 4714.357412041137\n",
       "    ⋮\n",
       " 4901.780217056724\n",
       " 4901.826244268172\n",
       " 4901.8722714796195\n",
       " 4901.918298691067\n",
       " 4901.964325902515\n",
       " 4902.010353113963\n",
       " 4902.056380325411\n",
       " 4902.102407536859\n",
       " 4902.1484347483065\n",
       " 4902.194461959754\n",
       " 4902.240489171202\n",
       " 4902.28651638265"
      ]
     },
     "metadata": {},
     "execution_count": 19
    }
   ],
   "metadata": {}
  },
  {
   "cell_type": "code",
   "execution_count": 21,
   "source": [
    "using JLD2, FileIO, SharedArrays"
   ],
   "outputs": [],
   "metadata": {}
  },
  {
   "cell_type": "code",
   "execution_count": 22,
   "source": [
    "Δλ = 7 \r\n",
    "subordinate_line_vac = 6105.7\r\n",
    "li_vac = 6709.702\r\n",
    "#wls = Float32.(load(\"wl_grid.jld2\")[\"wl_grid\"])\r\n",
    "wls = data\r\n",
    "subordinate_line_mask = subordinate_line_vac - Δλ .< wls .< subordinate_line_vac + Δλ\r\n",
    "npix = sum(.! subordinate_line_mask) #n pixels that are not masked \r\n",
    "wl_grid = SharedArray{Float32}(npix) \r\n",
    "wl_grid .= wls[.! subordinate_line_mask]\r\n",
    "line_mask = li_vac - Δλ .< wl_grid .< li_vac + Δλ"
   ],
   "outputs": [
    {
     "output_type": "execute_result",
     "data": {
      "text/plain": [
       "4096-element BitVector:\n",
       " 0\n",
       " 0\n",
       " 0\n",
       " 0\n",
       " 0\n",
       " 0\n",
       " 0\n",
       " 0\n",
       " 0\n",
       " 0\n",
       " 0\n",
       " 0\n",
       " 0\n",
       " ⋮\n",
       " 0\n",
       " 0\n",
       " 0\n",
       " 0\n",
       " 0\n",
       " 0\n",
       " 0\n",
       " 0\n",
       " 0\n",
       " 0\n",
       " 0\n",
       " 0"
      ]
     },
     "metadata": {},
     "execution_count": 22
    }
   ],
   "metadata": {}
  },
  {
   "cell_type": "code",
   "execution_count": 13,
   "source": [
    "some_data"
   ],
   "outputs": [
    {
     "output_type": "execute_result",
     "data": {
      "text/plain": [
       "2-element Vector{Float64}:\n",
       " 1.0\n",
       " 1.0"
      ]
     },
     "metadata": {},
     "execution_count": 13
    }
   ],
   "metadata": {}
  },
  {
   "cell_type": "code",
   "execution_count": 9,
   "source": [
    "julia_mat = Matrix(xs)"
   ],
   "outputs": [
    {
     "output_type": "error",
     "ename": "LoadError",
     "evalue": "MethodError: no method matching (Matrix{T} where T)(::PyArray{Float64, 1})\n\u001b[0mClosest candidates are:\n\u001b[0m  (Array{T, N} where T)(::AbstractArray{S, N}) where {S, N} at boot.jl:470\n\u001b[0m  (Matrix{T} where T)(\u001b[91m::Union{LinearAlgebra.QR, LinearAlgebra.QRCompactWY}\u001b[39m) at C:\\buildbot\\worker\\package_win64\\build\\usr\\share\\julia\\stdlib\\v1.6\\LinearAlgebra\\src\\qr.jl:434\n\u001b[0m  (Matrix{T} where T)(\u001b[91m::LinearAlgebra.LQ\u001b[39m) at C:\\buildbot\\worker\\package_win64\\build\\usr\\share\\julia\\stdlib\\v1.6\\LinearAlgebra\\src\\lq.jl:120\n\u001b[0m  ...",
     "traceback": [
      "MethodError: no method matching (Matrix{T} where T)(::PyArray{Float64, 1})\n\u001b[0mClosest candidates are:\n\u001b[0m  (Array{T, N} where T)(::AbstractArray{S, N}) where {S, N} at boot.jl:470\n\u001b[0m  (Matrix{T} where T)(\u001b[91m::Union{LinearAlgebra.QR, LinearAlgebra.QRCompactWY}\u001b[39m) at C:\\buildbot\\worker\\package_win64\\build\\usr\\share\\julia\\stdlib\\v1.6\\LinearAlgebra\\src\\qr.jl:434\n\u001b[0m  (Matrix{T} where T)(\u001b[91m::LinearAlgebra.LQ\u001b[39m) at C:\\buildbot\\worker\\package_win64\\build\\usr\\share\\julia\\stdlib\\v1.6\\LinearAlgebra\\src\\lq.jl:120\n\u001b[0m  ...",
      "",
      "Stacktrace:",
      " [1] top-level scope",
      "   @ In[9]:1",
      " [2] eval",
      "   @ .\\boot.jl:360 [inlined]",
      " [3] include_string(mapexpr::typeof(REPL.softscope), mod::Module, code::String, filename::String)",
      "   @ Base .\\loading.jl:1116"
     ]
    }
   ],
   "metadata": {}
  },
  {
   "cell_type": "code",
   "execution_count": 10,
   "source": [
    "py\"\"\"   \r\n",
    "import numpy as np\r\n",
    "import astropy.io.fits as pyfits\r\n",
    "import matplotlib.pyplot as plt\r\n",
    "import glob\r\n",
    "\"\"\""
   ],
   "outputs": [
    {
     "output_type": "error",
     "ename": "LoadError",
     "evalue": "PyError ($(Expr(:escape, :(ccall(#= C:\\Users\\pravn\\.julia\\packages\\PyCall\\BD546\\src\\pyeval.jl:38 =# @pysym(:PyEval_EvalCode), PyPtr, (PyPtr, PyPtr, PyPtr), o, globals, locals))))) <class 'ModuleNotFoundError'>\nModuleNotFoundError(\"No module named 'astropy'\")\n  File \"C:\\Users\\pravn\\.julia\\packages\\PyCall\\BD546\\src\\pyeval.jl\", line 3, in <module>\n    const Py_eval_input = 258\n",
     "traceback": [
      "PyError ($(Expr(:escape, :(ccall(#= C:\\Users\\pravn\\.julia\\packages\\PyCall\\BD546\\src\\pyeval.jl:38 =# @pysym(:PyEval_EvalCode), PyPtr, (PyPtr, PyPtr, PyPtr), o, globals, locals))))) <class 'ModuleNotFoundError'>\nModuleNotFoundError(\"No module named 'astropy'\")\n  File \"C:\\Users\\pravn\\.julia\\packages\\PyCall\\BD546\\src\\pyeval.jl\", line 3, in <module>\n    const Py_eval_input = 258\n",
      "",
      "Stacktrace:",
      " [1] pyerr_check",
      "   @ C:\\Users\\pravn\\.julia\\packages\\PyCall\\BD546\\src\\exception.jl:62 [inlined]",
      " [2] pyerr_check",
      "   @ C:\\Users\\pravn\\.julia\\packages\\PyCall\\BD546\\src\\exception.jl:66 [inlined]",
      " [3] _handle_error(msg::String)",
      "   @ PyCall C:\\Users\\pravn\\.julia\\packages\\PyCall\\BD546\\src\\exception.jl:83"
     ]
    }
   ],
   "metadata": {}
  }
 ],
 "metadata": {
  "orig_nbformat": 4,
  "language_info": {
   "file_extension": ".jl",
   "name": "julia",
   "mimetype": "application/julia",
   "version": "1.6.2"
  },
  "kernelspec": {
   "name": "julia-1.6",
   "display_name": "Julia 1.6.2",
   "language": "julia"
  },
  "interpreter": {
   "hash": "854dde0f5349f591ba4eb6f4f43f02c32334f9d9446baa489f1dae9da5cb0d51"
  }
 },
 "nbformat": 4,
 "nbformat_minor": 2
}