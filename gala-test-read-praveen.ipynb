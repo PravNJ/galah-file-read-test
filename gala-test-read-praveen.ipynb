{
 "cells": [
  {
   "cell_type": "code",
   "execution_count": 2,
   "source": [
    "import numpy as np\r\n",
    "import pandas as pd\r\n",
    "import requests"
   ],
   "outputs": [],
   "metadata": {}
  },
  {
   "cell_type": "code",
   "execution_count": 14,
   "source": [
    "#sql_query = \"SELECT TOP 100 sobject_id, star_id, teff,e_teff,logg,e_logg, fe_h, e_fe_h FROM galah_dr3.main_star WHERE sobject_id < 160000000000000 and logg < 2.0\" #this was the original ADQL query used by brent.miszalski@mq.edu.au\r\n",
    "sql_query = \"SELECT sobject_id FROM galah_dr3.main_star\"\r\n",
    "#Query GALAH DR3 catalogue using DataCentral API\r\n",
    "api_url = 'https://datacentral.org.au/api/services/query/'\r\n",
    "qdata = {'title' : 'get all sobject_ids of GALAH objects', #give a meaningful name\r\n",
    "         'notes' : '', #ok if null\r\n",
    "         'sql' : sql_query,\r\n",
    "         'run_async' : False,\r\n",
    "         'email'  : 'prav.nj@gmail.com'}\r\n",
    "post = requests.post(api_url,data=qdata).json()\r\n",
    "resp = requests.get(post['url']).json() #Python stores this in memory as a dict object\r\n",
    "df = pd.DataFrame(resp['result']['data'],columns=resp['result']['columns']) #write to a df"
   ],
   "outputs": [],
   "metadata": {}
  },
  {
   "cell_type": "code",
   "execution_count": 17,
   "source": [
    "df #sadly this method restricts the query return to be 1000 records so we can't even get the full list of GALAH objects this way"
   ],
   "outputs": [
    {
     "output_type": "execute_result",
     "data": {
      "text/plain": [
       "          sobject_id\n",
       "0    181222002601125\n",
       "1    181222002601126\n",
       "2    181222002601128\n",
       "3    181222002601129\n",
       "4    181222002601130\n",
       "..               ...\n",
       "994  181222004601317\n",
       "995  181222004601318\n",
       "996  181222004601319\n",
       "997  181222004601320\n",
       "998  181222004601321\n",
       "\n",
       "[999 rows x 1 columns]"
      ],
      "text/html": [
       "<div>\n",
       "<style scoped>\n",
       "    .dataframe tbody tr th:only-of-type {\n",
       "        vertical-align: middle;\n",
       "    }\n",
       "\n",
       "    .dataframe tbody tr th {\n",
       "        vertical-align: top;\n",
       "    }\n",
       "\n",
       "    .dataframe thead th {\n",
       "        text-align: right;\n",
       "    }\n",
       "</style>\n",
       "<table border=\"1\" class=\"dataframe\">\n",
       "  <thead>\n",
       "    <tr style=\"text-align: right;\">\n",
       "      <th></th>\n",
       "      <th>sobject_id</th>\n",
       "    </tr>\n",
       "  </thead>\n",
       "  <tbody>\n",
       "    <tr>\n",
       "      <th>0</th>\n",
       "      <td>181222002601125</td>\n",
       "    </tr>\n",
       "    <tr>\n",
       "      <th>1</th>\n",
       "      <td>181222002601126</td>\n",
       "    </tr>\n",
       "    <tr>\n",
       "      <th>2</th>\n",
       "      <td>181222002601128</td>\n",
       "    </tr>\n",
       "    <tr>\n",
       "      <th>3</th>\n",
       "      <td>181222002601129</td>\n",
       "    </tr>\n",
       "    <tr>\n",
       "      <th>4</th>\n",
       "      <td>181222002601130</td>\n",
       "    </tr>\n",
       "    <tr>\n",
       "      <th>...</th>\n",
       "      <td>...</td>\n",
       "    </tr>\n",
       "    <tr>\n",
       "      <th>994</th>\n",
       "      <td>181222004601317</td>\n",
       "    </tr>\n",
       "    <tr>\n",
       "      <th>995</th>\n",
       "      <td>181222004601318</td>\n",
       "    </tr>\n",
       "    <tr>\n",
       "      <th>996</th>\n",
       "      <td>181222004601319</td>\n",
       "    </tr>\n",
       "    <tr>\n",
       "      <th>997</th>\n",
       "      <td>181222004601320</td>\n",
       "    </tr>\n",
       "    <tr>\n",
       "      <th>998</th>\n",
       "      <td>181222004601321</td>\n",
       "    </tr>\n",
       "  </tbody>\n",
       "</table>\n",
       "<p>999 rows × 1 columns</p>\n",
       "</div>"
      ]
     },
     "metadata": {},
     "execution_count": 17
    }
   ],
   "metadata": {}
  }
 ],
 "metadata": {
  "orig_nbformat": 4,
  "language_info": {
   "name": "python",
   "version": "3.8.10",
   "mimetype": "text/x-python",
   "codemirror_mode": {
    "name": "ipython",
    "version": 3
   },
   "pygments_lexer": "ipython3",
   "nbconvert_exporter": "python",
   "file_extension": ".py"
  },
  "kernelspec": {
   "name": "python3",
   "display_name": "Python 3.8.10 64-bit ('astro_galah_data_38': conda)"
  },
  "interpreter": {
   "hash": "854dde0f5349f591ba4eb6f4f43f02c32334f9d9446baa489f1dae9da5cb0d51"
  }
 },
 "nbformat": 4,
 "nbformat_minor": 2
}