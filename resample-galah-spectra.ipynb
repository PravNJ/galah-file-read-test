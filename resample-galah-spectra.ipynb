{
 "cells": [
  {
   "cell_type": "code",
   "execution_count": 125,
   "source": [
    "import numpy as np\r\n",
    "import astropy.io.fits as pyfits\r\n",
    "import matplotlib.pyplot as plt\r\n",
    "import glob\r\n",
    "\r\n",
    "#this is for Sven Buder's fits file reader function which reads fits into a Python dict of numpy arrays"
   ],
   "outputs": [],
   "metadata": {}
  },
  {
   "cell_type": "code",
   "execution_count": 126,
   "source": [
    "from spectres import spectres\r\n",
    "from matplotlib import gridspec \r\n",
    "\r\n",
    "#these are for running spectres which allows us to resample spectra and their errors with very little effort "
   ],
   "outputs": [],
   "metadata": {}
  },
  {
   "cell_type": "code",
   "execution_count": 127,
   "source": [
    "sobject_ids = [161217002601184,170418003701205] \r\n",
    "\r\n",
    "#input the object IDs, change this later to handle a list of 30K object IDs\r\n",
    "#these object IDs will drive the read_spectra method\r\n",
    "#calling read_spectra using object IDs in a loop will be useful to iterate through all the objects and generate dict() objects for their spectra "
   ],
   "outputs": [],
   "metadata": {}
  },
  {
   "cell_type": "code",
   "execution_count": 129,
   "source": [
    "GRID_SIZE = 0.06\r\n",
    "LOWER_LAMBDA = 6472.5\r\n",
    "UPPER_LAMBDA = 6740\r\n",
    "\r\n",
    "#the grid size was determined by looking at camera 3 for a few fits files and checking the step between lambda values that are general enough for all fits files \r\n",
    "#lower and upper limites are from Sven Buder's example for camera 3\r\n",
    "#this constants will have to be adjusted depending on the element being studied and the minimum resolution of the wave grid (lambda values i.e. lambda[i+1] - lambda[i])"
   ],
   "outputs": [],
   "metadata": {}
  },
  {
   "cell_type": "code",
   "execution_count": 130,
   "source": [
    "regrid = np.arange(LOWER_LAMBDA, UPPER_LAMBDA, GRID_SIZE) \r\n",
    "\r\n",
    "#this is the grid onto which spectres will resampple "
   ],
   "outputs": [],
   "metadata": {}
  },
  {
   "cell_type": "code",
   "execution_count": 131,
   "source": [
    "def read_spectra(sobject_id):\r\n",
    "    fits_files = [[],[],[],[]]\r\n",
    "    for each_ccd in [1,2,3,4]:\r\n",
    "        fits_files[each_ccd-1] = glob.glob('C:/Users/pravn/Dropbox/masters/python-code/galah-file-read-test/data/GALAH_DR3/spectra/SPECTRA/'+str(sobject_id)+str(each_ccd)+'.fits') #this is reading fits files from file and not downloading directly \r\n",
    "\r\n",
    "    spectrum = dict()\r\n",
    "    for each_ccd in [1,2,3,4]: #GALAH uses indexing from 1 - 4\r\n",
    "        if fits_files[each_ccd-1]!=[]: #just using zero indexing here \r\n",
    "            fits = pyfits.open(fits_files[each_ccd-1][0]) \r\n",
    "            \r\n",
    "            # Extension 0: Reduced spectrum\r\n",
    "            # Extension 1: Relative error spectrum\r\n",
    "            # Extension 4: Normalised spectrum, NB: cut for CCD4\r\n",
    "\r\n",
    "            # Extract wavelength grid for the reduced spectrum\r\n",
    "            start_wavelength = fits[0].header[\"CRVAL1\"]\r\n",
    "            dispersion       = fits[0].header[\"CDELT1\"]\r\n",
    "            nr_pixels        = fits[0].header[\"NAXIS1\"]\r\n",
    "            reference_pixel  = fits[0].header[\"CRPIX1\"]\r\n",
    "\r\n",
    "            if reference_pixel == 0:\r\n",
    "                reference_pixel = 1\r\n",
    "            spectrum['wave_red_'+str(each_ccd)] = ((np.arange(0,nr_pixels)--reference_pixel+1)*dispersion+start_wavelength) #this is the reduced spectrum \r\n",
    "\r\n",
    "            # Extract wavelength grid for the normalised spectrum\r\n",
    "            start_wavelength = fits[4].header[\"CRVAL1\"]\r\n",
    "            dispersion       = fits[4].header[\"CDELT1\"]\r\n",
    "            nr_pixels        = fits[4].header[\"NAXIS1\"]\r\n",
    "            reference_pixel  = fits[4].header[\"CRPIX1\"]\r\n",
    "\r\n",
    "            if reference_pixel == 0:\r\n",
    "                reference_pixel=1\r\n",
    "            spectrum['wave_norm_'+str(each_ccd)] = ((np.arange(0,nr_pixels)--reference_pixel+1)*dispersion+start_wavelength) #this is the normalised spectrum \r\n",
    "\r\n",
    "            spectrum['sob_red_'+str(each_ccd)]  = np.array(fits[0].data)\r\n",
    "            spectrum['uob_red_'+str(each_ccd)]  = np.array(fits[0].data * fits[1].data)\r\n",
    "\r\n",
    "            spectrum['sob_norm_'+str(each_ccd)] = np.array(fits[4].data)\r\n",
    "            if each_ccd != 4:\r\n",
    "                spectrum['uob_norm_'+str(each_ccd)] = np.array(fits[4].data * fits[1].data)\r\n",
    "            else:\r\n",
    "                # for normalised error of CCD4, only used appropriate parts of error spectrum\r\n",
    "                spectrum['uob_norm_4'] = np.array(fits[4].data * (fits[1].data)[-len(spectrum['sob_norm_4']):])\r\n",
    "\r\n",
    "            fits.close()\r\n",
    "        else:\r\n",
    "            spectrum['wave_red_'+str(each_ccd)] = []\r\n",
    "            spectrum['wave_norm_'+str(each_ccd)] = []\r\n",
    "            spectrum['sob_red_'+str(each_ccd)] = []\r\n",
    "            spectrum['sob_norm_'+str(each_ccd)] = []\r\n",
    "            spectrum['uob_red_'+str(each_ccd)] = []\r\n",
    "            spectrum['uob_norm_'+str(each_ccd)] = []\r\n",
    "    \r\n",
    "    spectrum['wave_red'] = np.concatenate(([spectrum['wave_red_'+str(each_ccd)] for each_ccd in [1,2,3,4]]))\r\n",
    "    spectrum['wave_norm'] = np.concatenate(([spectrum['wave_norm_'+str(each_ccd)] for each_ccd in [1,2,3,4]]))\r\n",
    "    spectrum['sob_red'] = np.concatenate(([spectrum['sob_red_'+str(each_ccd)] for each_ccd in [1,2,3,4]]))\r\n",
    "    spectrum['sob_norm'] = np.concatenate(([spectrum['sob_norm_'+str(each_ccd)] for each_ccd in [1,2,3,4]]))\r\n",
    "    spectrum['uob_red'] = np.concatenate(([spectrum['uob_red_'+str(each_ccd)] for each_ccd in [1,2,3,4]]))\r\n",
    "    spectrum['uob_norm'] = np.concatenate(([spectrum['uob_norm_'+str(each_ccd)] for each_ccd in [1,2,3,4]]))\r\n",
    "\r\n",
    "    return spectrum \r\n",
    "    \r\n",
    "    #returns a 30 \"row\" dict of numpy array per row 'wave_red_x' is the key for the key value pair\r\n",
    "    #camera 3 will be the more useful canmera for Li spectra "
   ],
   "outputs": [],
   "metadata": {}
  },
  {
   "cell_type": "code",
   "execution_count": 134,
   "source": [
    "def resample_spectra(spectrum, camera):\r\n",
    "\r\n",
    "    spec_resample, spec_errs_resample = spectres(regrid,  spectrum['wave_norm_'+str(camera)], spectrum['sob_norm_'+str(camera)], spec_errs= spectrum['uob_norm_'+str(camera)]) \r\n",
    "\r\n",
    "    return spec_resample\r\n",
    "\r\n",
    "#for Li pick camera 3"
   ],
   "outputs": [],
   "metadata": {}
  },
  {
   "cell_type": "code",
   "execution_count": 133,
   "source": [
    "#open an empty dict to store the results \r\n",
    "resampled_spectra_collection = {}\r\n",
    "resampled_spectra_collection['spec_resample'] = []"
   ],
   "outputs": [],
   "metadata": {}
  },
  {
   "cell_type": "code",
   "execution_count": 135,
   "source": [
    "for sobject_id in sobject_ids:\r\n",
    "    spectrum = read_spectra(sobject_id)\r\n",
    "    resampled_spectra_collection['spec_resample'].append(resample_spectra(spectrum, 3))\r\n",
    "\r\n",
    "#the loop apends each resampled spectrum to a dictionary data structure \r\n",
    "    "
   ],
   "outputs": [
    {
     "output_type": "stream",
     "name": "stdout",
     "text": [
      "\n",
      "Spectres: new_wavs contains values outside the range in spec_wavs, new_fluxes and new_errs will be filled with the value set in the 'fill' keyword argument. \n",
      "\n",
      "\n",
      "Spectres: new_wavs contains values outside the range in spec_wavs, new_fluxes and new_errs will be filled with the value set in the 'fill' keyword argument. \n",
      "\n"
     ]
    }
   ],
   "metadata": {}
  },
  {
   "cell_type": "code",
   "execution_count": 136,
   "source": [
    "resampled_spectra_collection"
   ],
   "outputs": [
    {
     "output_type": "execute_result",
     "data": {
      "text/plain": [
       "{'spec_resample': [array([nan, nan, nan, ..., nan, nan, nan]),\n",
       "  array([nan, nan, nan, ..., nan, nan, nan])]}"
      ]
     },
     "metadata": {},
     "execution_count": 136
    }
   ],
   "metadata": {}
  }
 ],
 "metadata": {
  "interpreter": {
   "hash": "854dde0f5349f591ba4eb6f4f43f02c32334f9d9446baa489f1dae9da5cb0d51"
  },
  "kernelspec": {
   "name": "python3",
   "display_name": "Python 3.8.10 64-bit ('astro_galah_data_38': conda)"
  },
  "language_info": {
   "codemirror_mode": {
    "name": "ipython",
    "version": 3
   },
   "file_extension": ".py",
   "mimetype": "text/x-python",
   "name": "python",
   "nbconvert_exporter": "python",
   "pygments_lexer": "ipython3",
   "version": "3.8.10"
  }
 },
 "nbformat": 4,
 "nbformat_minor": 2
}