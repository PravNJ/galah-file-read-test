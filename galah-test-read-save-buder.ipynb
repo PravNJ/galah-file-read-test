{
 "cells": [
  {
   "cell_type": "code",
   "execution_count": 4,
   "source": [
    "import numpy as np\r\n",
    "import os\r\n",
    "import wget\r\n",
    "import astropy.io.fits as pyfits\r\n",
    "import matplotlib.pyplot as plt\r\n",
    "import glob"
   ],
   "outputs": [],
   "metadata": {}
  },
  {
   "cell_type": "code",
   "execution_count": 8,
   "source": [
    "absolute_path = os.path.abspath('') #code working directory\r\n",
    "working_directory = os.path.join(absolute_path, 'data\\GALAH_DR3\\spectra\\SPECTRA') #where we save the spectra\r\n",
    "os.chdir(working_directory) #switch to the data directory\r\n"
   ],
   "outputs": [],
   "metadata": {}
  },
  {
   "cell_type": "code",
   "execution_count": 9,
   "source": [
    "sobject_ids = [161213002101285,\r\n",
    "    161217002601184] #some test IDs for now"
   ],
   "outputs": [],
   "metadata": {}
  },
  {
   "cell_type": "code",
   "execution_count": 7,
   "source": [],
   "outputs": [
    {
     "output_type": "execute_result",
     "data": {
      "text/plain": [
       "str"
      ]
     },
     "metadata": {},
     "execution_count": 7
    }
   ],
   "metadata": {}
  }
 ],
 "metadata": {
  "orig_nbformat": 4,
  "language_info": {
   "name": "python",
   "version": "3.8.10",
   "mimetype": "text/x-python",
   "codemirror_mode": {
    "name": "ipython",
    "version": 3
   },
   "pygments_lexer": "ipython3",
   "nbconvert_exporter": "python",
   "file_extension": ".py"
  },
  "kernelspec": {
   "name": "python3",
   "display_name": "Python 3.8.10 64-bit ('astro_galah_data_38': conda)"
  },
  "interpreter": {
   "hash": "854dde0f5349f591ba4eb6f4f43f02c32334f9d9446baa489f1dae9da5cb0d51"
  }
 },
 "nbformat": 4,
 "nbformat_minor": 2
}